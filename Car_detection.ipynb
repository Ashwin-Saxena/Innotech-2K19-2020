{
 "cells": [
  {
   "cell_type": "code",
   "execution_count": 1,
   "metadata": {},
   "outputs": [],
   "source": [
    "import cv2\n",
    "import numpy as np\n",
    "import time"
   ]
  },
  {
   "cell_type": "code",
   "execution_count": 9,
   "metadata": {},
   "outputs": [],
   "source": [
    "cam=cv2.VideoCapture(\"video.avi\")\n",
    "cam1=cv2.VideoCapture(\"videoplayback.mp4\")"
   ]
  },
  {
   "cell_type": "code",
   "execution_count": 3,
   "metadata": {},
   "outputs": [],
   "source": [
    "car_cascade = cv2.CascadeClassifier('cars.xml')"
   ]
  },
  {
   "cell_type": "code",
   "execution_count": 4,
   "metadata": {},
   "outputs": [],
   "source": [
    "font                   = cv2.FONT_HERSHEY_SIMPLEX\n",
    "bottomLeftCornerOfText = (10,500)\n",
    "fontScale              = 1\n",
    "fontColor              = (\"BLue\")\n",
    "lineType               = 2"
   ]
  },
  {
   "cell_type": "code",
   "execution_count": 12,
   "metadata": {},
   "outputs": [
    {
     "name": "stdout",
     "output_type": "stream",
     "text": [
      "Traffic Density as per No. of cars Detected as per squares created  for First: 295\n",
      "Traffic Density as per No. of cars Detected as per squares created  for Second: 601\n",
      "Side 2 Needs More Time\n"
     ]
    }
   ],
   "source": [
    "value=\"0\"\n",
    "value1=\"10\"\n",
    "# for i in range(0,1100):\n",
    "while True:\n",
    "#     time.sleep(2)\n",
    "#     value=10\n",
    "   \n",
    "    ret ,frame=cam.read()\n",
    "    ret1 , frame1=cam1.read()\n",
    "    gray = cv2.cvtColor(frame, cv2.COLOR_BGR2GRAY)\n",
    "    gray1=cv2.cvtColor(frame1, cv2.COLOR_BGR2GRAY)\n",
    "    cars = car_cascade.detectMultiScale(gray, 1.1, 1) \n",
    "    for (x,y,w,h) in cars: \n",
    "        jk=int(value)+1\n",
    "        value=str(jk)\n",
    "        cv2.rectangle(frame,(x,y),(x+w,y+h),(0,0,255),2) \n",
    "        cv2.putText(frame,value,(14,25), font, .5,(0,35,255),2,cv2.LINE_AA)   \n",
    "    cv2.imshow('Detecting Traffic for Phase A', frame) \n",
    "    \n",
    "    cars = car_cascade.detectMultiScale(gray1, 1.1, 1) \n",
    "    for (x,y,w,h) in cars: \n",
    "        jk1=int(value1)+1\n",
    "        value1=str(jk1)\n",
    "        cv2.rectangle(frame1,(x,y),(x+w,y+h),(0,0,255),2) \n",
    "        cv2.putText(frame1,value1,(14,25), font, .5,(0,35,255),2,cv2.LINE_AA)   \n",
    "    cv2.imshow('Detecting Traffic for second side', frame1) \n",
    "    # Wait for Esc key to stop \n",
    "    if cv2.waitKey(33) == 27: \n",
    "        break\n",
    "\n",
    "cv2.destroyAllWindows()\n",
    "print(\"Traffic Density as per No. of cars Detected as per squares created  for First:\",value)\n",
    "print(\"Traffic Density as per No. of cars Detected as per squares created  for Second:\",value1)\n",
    "time.sleep(2)\n",
    "if value>value1:\n",
    "    print(\"Side 1 Needs More Time\")\n",
    "else :\n",
    "    print(\"Side 2 Needs More Time\")"
   ]
  },
  {
   "cell_type": "code",
   "execution_count": null,
   "metadata": {},
   "outputs": [],
   "source": []
  },
  {
   "cell_type": "code",
   "execution_count": null,
   "metadata": {},
   "outputs": [],
   "source": []
  }
 ],
 "metadata": {
  "kernelspec": {
   "display_name": "Python 3",
   "language": "python",
   "name": "python3"
  },
  "language_info": {
   "codemirror_mode": {
    "name": "ipython",
    "version": 3
   },
   "file_extension": ".py",
   "mimetype": "text/x-python",
   "name": "python",
   "nbconvert_exporter": "python",
   "pygments_lexer": "ipython3",
   "version": "3.7.4"
  }
 },
 "nbformat": 4,
 "nbformat_minor": 2
}
